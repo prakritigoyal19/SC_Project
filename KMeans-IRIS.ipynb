{
 "cells": [
  {
   "cell_type": "code",
   "execution_count": 24,
   "metadata": {},
   "outputs": [],
   "source": [
    "import numpy as np\n",
    "import pandas as pd\n",
    "import matplotlib.pyplot as plt\n",
    "from sklearn.datasets import load_iris "
   ]
  },
  {
   "cell_type": "code",
   "execution_count": 25,
   "metadata": {},
   "outputs": [],
   "source": [
    "def TLFun(arr):\n",
    "    list=arr.tolist()\n",
    "    return list"
   ]
  },
  {
   "cell_type": "code",
   "execution_count": 27,
   "metadata": {},
   "outputs": [],
   "source": [
    "iris=load_iris()\n",
    "data=pd.DataFrame(iris.data,columns=['Sepal Length', 'Sepal Width', 'Petal Length', 'Petal Width'])\n",
    "y=pd.DataFrame(iris.target,columns=['Classes'])\n",
    "A=[]\n",
    "B=[]\n",
    "C=[]\n",
    "for i in range(len(iris.target)):\n",
    "    if iris.target[i]==0:\n",
    "        A.append(iris.data[i])\n",
    "    elif iris.target[i]==1:\n",
    "        B.append(iris.data[i])\n",
    "    elif iris.target[i]==2:\n",
    "        C.append(iris.data[i])\n",
    "    \n",
    "dat=iris.data[:,:4]\n",
    "A=np.array(A)\n",
    "B=np.array(B)\n",
    "C=np.array(C)\n",
    "A=TLFun(A)\n",
    "B=TLFun(B)\n",
    "C=TLFun(C)\n",
    "K=3\n",
    "iteration=20"
   ]
  },
  {
   "cell_type": "code",
   "execution_count": 30,
   "metadata": {},
   "outputs": [],
   "source": [
    "def euclidean_dis(point1, point2):\n",
    "    dis = sum((point1 - point2)**2)**0.5\n",
    "    return dis"
   ]
  },
  {
   "cell_type": "code",
   "execution_count": 37,
   "metadata": {},
   "outputs": [],
   "source": [
    "def KMean(data):\n",
    "    centroids = {}\n",
    "    for i in range(K):\n",
    "        centroids[i] = data[i]\n",
    "    for i in range(iteration):\n",
    "        classes={}\n",
    "        for key in range(K):\n",
    "            classes[key]=[]\n",
    "        for datapoint in data:\n",
    "            distance=[]\n",
    "            for j in range(K):\n",
    "                dis=euclidean_dis(datapoint,centroids[j])\n",
    "                distance.append(dis)\n",
    "            mindis=min(distance)\n",
    "            index=distance.index(mindis)\n",
    "            classes[index].append(datapoint)\n",
    "            old_centroid=dict(centroids)\n",
    "            \n",
    "        for t in range(K):\n",
    "            class_=classes[t]\n",
    "            new_centroid=np.mean(class_,axis=0)\n",
    "            centroids[t]=new_centroid\n",
    "        flg=1\n",
    "        for t in range(K):\n",
    "            a=centroids[t]\n",
    "            b=old_centroid[t]\n",
    "            if np.sum((a - b)/b * 100) > 0.001:\n",
    "                flg = 0\n",
    "        if flg==1:\n",
    "            break\n",
    "    return classes,centroids"
   ]
  },
  {
   "cell_type": "code",
   "execution_count": 51,
   "metadata": {},
   "outputs": [
    {
     "name": "stdout",
     "output_type": "stream",
     "text": [
      "{0: array([6.85384615, 3.07692308, 5.71538462, 2.05384615]), 1: array([5.88360656, 2.74098361, 4.38852459, 1.43442623]), 2: array([5.006, 3.428, 1.462, 0.246])}\n"
     ]
    }
   ],
   "source": [
    "classes,centroids=KMean(dat)\n",
    "for i in range(0,K):\n",
    "    classes[i]=np.array(classes[i])\n",
    "    classes[i]=TLFun(classes[i])\n",
    "print(np.array(centroids))"
   ]
  },
  {
   "cell_type": "code",
   "execution_count": 40,
   "metadata": {},
   "outputs": [],
   "source": [
    "def subset(array1,array2):\n",
    "    flg=0\n",
    "    for i in range(len(array1)):\n",
    "        if(array2==array1[i]):\n",
    "            flg=1\n",
    "            break\n",
    "    if(flg==1):\n",
    "        return True\n",
    "    return False"
   ]
  },
  {
   "cell_type": "code",
   "execution_count": 46,
   "metadata": {},
   "outputs": [],
   "source": [
    "def classification_report(cm):\n",
    "    total=np.sum(cm)\n",
    "    diagonal=np.sum(np.diag(cm))\n",
    "    accuracy=(diagonal/total)\n",
    "    recall=np.diag(cm)/np.sum(cm,axis=1)\n",
    "    recall=np.mean(recall)\n",
    "    precision=np.diag(cm)/np.sum(cm,axis=0)\n",
    "    precision=np.mean(precision)\n",
    "    f1_score=(2*precision*recall)/(precision+recall)\n",
    "    print(\"Accuracy {}\".format(accuracy*100))\n",
    "    print(\"Recall {}\".format(recall*100))\n",
    "    print(\"Precision {}\".format(precision*100))\n",
    "    print(\"F1-Score {}\".format(f1_score*100))"
   ]
  },
  {
   "cell_type": "code",
   "execution_count": 48,
   "metadata": {},
   "outputs": [
    {
     "name": "stdout",
     "output_type": "stream",
     "text": [
      "Confusion Matrix:\n",
      "[[50, 0, 0], [0, 47, 3], [0, 14, 36]]\n",
      "Accuracy 88.66666666666667\n",
      "Recall 88.66666666666667\n",
      "Precision 89.78562421185372\n",
      "F1-Score 89.22263731397425\n"
     ]
    }
   ],
   "source": [
    "rows,cols=(3,3)\n",
    "cm=[[0 for i in range(cols)] for j in range(rows)]\n",
    "for element in A:\n",
    "    if subset(classes[2],element):\n",
    "        cm[0][0]=cm[0][0]+1\n",
    "    elif subset(classes[1],element):\n",
    "        cm[0][1]=cm[0][1]+1\n",
    "    elif subset(classes[0],element):\n",
    "        cm[0][2]=cm[0][2]+1\n",
    "\n",
    "for element in B:\n",
    "    if subset(classes[2],element):\n",
    "        cm[1][0]=cm[1][0]+1\n",
    "    elif subset(classes[1],element):\n",
    "        cm[1][1]=cm[1][1]+1\n",
    "    elif subset(classes[0],element):\n",
    "        cm[1][2]=cm[1][2]+1\n",
    "        \n",
    "for element in C:\n",
    "    if subset(classes[2],element):\n",
    "        cm[2][0]=cm[2][0]+1\n",
    "    elif subset(classes[1],element):\n",
    "        cm[2][1]=cm[2][1]+1\n",
    "    elif subset(classes[0],element):\n",
    "        cm[2][2]=cm[2][2]+1\n",
    "        \n",
    "print(\"Confusion Matrix:\")\n",
    "print(cm)\n",
    "classification_report(cm)"
   ]
  },
  {
   "cell_type": "code",
   "execution_count": null,
   "metadata": {},
   "outputs": [],
   "source": []
  }
 ],
 "metadata": {
  "kernelspec": {
   "display_name": "Python 3",
   "language": "python",
   "name": "python3"
  },
  "language_info": {
   "codemirror_mode": {
    "name": "ipython",
    "version": 3
   },
   "file_extension": ".py",
   "mimetype": "text/x-python",
   "name": "python",
   "nbconvert_exporter": "python",
   "pygments_lexer": "ipython3",
   "version": "3.6.9"
  }
 },
 "nbformat": 4,
 "nbformat_minor": 2
}
